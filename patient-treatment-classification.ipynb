{
 "cells": [
  {
   "cell_type": "code",
   "execution_count": 1,
   "id": "6448f83a",
   "metadata": {
    "_cell_guid": "b1076dfc-b9ad-4769-8c92-a6c4dae69d19",
    "_uuid": "8f2839f25d086af736a60e9eeb907d3b93b6e0e5",
    "execution": {
     "iopub.execute_input": "2022-07-18T07:26:28.942816Z",
     "iopub.status.busy": "2022-07-18T07:26:28.942107Z",
     "iopub.status.idle": "2022-07-18T07:26:28.964689Z",
     "shell.execute_reply": "2022-07-18T07:26:28.963609Z"
    },
    "papermill": {
     "duration": 0.038702,
     "end_time": "2022-07-18T07:26:28.968361",
     "exception": false,
     "start_time": "2022-07-18T07:26:28.929659",
     "status": "completed"
    },
    "tags": []
   },
   "outputs": [
    {
     "name": "stdout",
     "output_type": "stream",
     "text": [
      "/kaggle/input/patient-treatment-classification/data-ori.csv\n",
      "/kaggle/input/patient-treatment-classification/Data Set Information.docx\n"
     ]
    }
   ],
   "source": [
    "# This Python 3 environment comes with many helpful analytics libraries installed\n",
    "# It is defined by the kaggle/python Docker image: https://github.com/kaggle/docker-python\n",
    "# For example, here's several helpful packages to load\n",
    "\n",
    "import numpy as np # linear algebra\n",
    "import pandas as pd # data processing, CSV file I/O (e.g. pd.read_csv)\n",
    "\n",
    "# Input data files are available in the read-only \"../input/\" directory\n",
    "# For example, running this (by clicking run or pressing Shift+Enter) will list all files under the input directory\n",
    "\n",
    "import os\n",
    "for dirname, _, filenames in os.walk('/kaggle/input'):\n",
    "    for filename in filenames:\n",
    "        print(os.path.join(dirname, filename))\n",
    "\n",
    "# You can write up to 20GB to the current directory (/kaggle/working/) that gets preserved as output when you create a version using \"Save & Run All\" \n",
    "# You can also write temporary files to /kaggle/temp/, but they won't be saved outside of the current session"
   ]
  },
  {
   "cell_type": "markdown",
   "id": "d263f4de",
   "metadata": {
    "papermill": {
     "duration": 0.009378,
     "end_time": "2022-07-18T07:26:28.988863",
     "exception": false,
     "start_time": "2022-07-18T07:26:28.979485",
     "status": "completed"
    },
    "tags": []
   },
   "source": [
    "# **Patient Treatment Classification**"
   ]
  },
  {
   "cell_type": "markdown",
   "id": "ca1bae47",
   "metadata": {
    "papermill": {
     "duration": 0.00911,
     "end_time": "2022-07-18T07:26:29.007498",
     "exception": false,
     "start_time": "2022-07-18T07:26:28.998388",
     "status": "completed"
    },
    "tags": []
   },
   "source": [
    "## **Problem Defined** "
   ]
  },
  {
   "cell_type": "markdown",
   "id": "46015a98",
   "metadata": {
    "papermill": {
     "duration": 0.009147,
     "end_time": "2022-07-18T07:26:29.026145",
     "exception": false,
     "start_time": "2022-07-18T07:26:29.016998",
     "status": "completed"
    },
    "tags": []
   },
   "source": [
    " The data set is a electronic health record of patiets in a hospital containing labortary test results.\n",
    " \n",
    " Our task is to predict if a given patient will be in patient or out patiet."
   ]
  },
  {
   "cell_type": "markdown",
   "id": "1aaecefa",
   "metadata": {
    "papermill": {
     "duration": 0.009148,
     "end_time": "2022-07-18T07:26:29.044854",
     "exception": false,
     "start_time": "2022-07-18T07:26:29.035706",
     "status": "completed"
    },
    "tags": []
   },
   "source": [
    "### **Data Attributes** "
   ]
  },
  {
   "cell_type": "markdown",
   "id": "4603dfb9",
   "metadata": {
    "papermill": {
     "duration": 0.009059,
     "end_time": "2022-07-18T07:26:29.063371",
     "exception": false,
     "start_time": "2022-07-18T07:26:29.054312",
     "status": "completed"
    },
    "tags": []
   },
   "source": [
    "HAEMATOCRIT :     Patient laboratory test result of haematocrit\n",
    "\n",
    "HAEMOGLOBINS:     Patient laboratory test result of haemoglobins\n",
    "\n",
    "ERYTHROCYTE :     Patient laboratory test result of erythrocyte\n",
    "\n",
    "LEUCOCYTE   :     Patient laboratory test result of leucocyte\n",
    "\n",
    "THROMBOCYTE :     Patient laboratory test result of thrombocyte\n",
    "\n",
    "MCH         :     Patient laboratory test result of MCH\n",
    "\n",
    "MCHC        :     Patient laboratory test result of MCHC\n",
    "\n",
    "MCV         :     Patient laboratory test result of MCV\n",
    "\n",
    "AGE         :     Patient age\n",
    "\n",
    "SEX         :     Patient gender\n",
    "\n",
    "SOURCE      :     The class target in.= in care patient, out = out care patient"
   ]
  },
  {
   "cell_type": "markdown",
   "id": "d82b2a0c",
   "metadata": {
    "papermill": {
     "duration": 0.00937,
     "end_time": "2022-07-18T07:26:29.082613",
     "exception": false,
     "start_time": "2022-07-18T07:26:29.073243",
     "status": "completed"
    },
    "tags": []
   },
   "source": [
    "### **Import Required Modules**"
   ]
  },
  {
   "cell_type": "code",
   "execution_count": 2,
   "id": "38b665d5",
   "metadata": {
    "execution": {
     "iopub.execute_input": "2022-07-18T07:26:29.103973Z",
     "iopub.status.busy": "2022-07-18T07:26:29.103582Z",
     "iopub.status.idle": "2022-07-18T07:26:30.520436Z",
     "shell.execute_reply": "2022-07-18T07:26:30.519403Z"
    },
    "papermill": {
     "duration": 1.430957,
     "end_time": "2022-07-18T07:26:30.523204",
     "exception": false,
     "start_time": "2022-07-18T07:26:29.092247",
     "status": "completed"
    },
    "tags": []
   },
   "outputs": [],
   "source": [
    "import numpy as np\n",
    "import pandas as pd\n",
    "import matplotlib.pyplot as plt \n",
    "import seaborn as sns\n",
    "\n",
    "from sklearn.model_selection import train_test_split\n",
    "from sklearn.preprocessing import StandardScaler\n",
    "\n",
    "from sklearn.linear_model import LogisticRegression\n",
    "from sklearn.tree import DecisionTreeClassifier\n",
    "from sklearn.neural_network import MLPClassifier\n",
    "from sklearn.ensemble import RandomForestClassifier, GradientBoostingClassifier\n",
    "\n",
    "from sklearn.metrics import accuracy_score, f1_score\n",
    "\n",
    "import warnings\n",
    "warnings.filterwarnings(action='ignore')"
   ]
  },
  {
   "cell_type": "markdown",
   "id": "c76bdc99",
   "metadata": {
    "papermill": {
     "duration": 0.010178,
     "end_time": "2022-07-18T07:26:30.543639",
     "exception": false,
     "start_time": "2022-07-18T07:26:30.533461",
     "status": "completed"
    },
    "tags": []
   },
   "source": [
    "### **Load Data**"
   ]
  },
  {
   "cell_type": "code",
   "execution_count": 3,
   "id": "9fd79952",
   "metadata": {
    "execution": {
     "iopub.execute_input": "2022-07-18T07:26:30.565456Z",
     "iopub.status.busy": "2022-07-18T07:26:30.565079Z",
     "iopub.status.idle": "2022-07-18T07:26:30.616094Z",
     "shell.execute_reply": "2022-07-18T07:26:30.614903Z"
    },
    "papermill": {
     "duration": 0.064965,
     "end_time": "2022-07-18T07:26:30.618479",
     "exception": false,
     "start_time": "2022-07-18T07:26:30.553514",
     "status": "completed"
    },
    "tags": []
   },
   "outputs": [
    {
     "data": {
      "text/html": [
       "<div>\n",
       "<style scoped>\n",
       "    .dataframe tbody tr th:only-of-type {\n",
       "        vertical-align: middle;\n",
       "    }\n",
       "\n",
       "    .dataframe tbody tr th {\n",
       "        vertical-align: top;\n",
       "    }\n",
       "\n",
       "    .dataframe thead th {\n",
       "        text-align: right;\n",
       "    }\n",
       "</style>\n",
       "<table border=\"1\" class=\"dataframe\">\n",
       "  <thead>\n",
       "    <tr style=\"text-align: right;\">\n",
       "      <th></th>\n",
       "      <th>HAEMATOCRIT</th>\n",
       "      <th>HAEMOGLOBINS</th>\n",
       "      <th>ERYTHROCYTE</th>\n",
       "      <th>LEUCOCYTE</th>\n",
       "      <th>THROMBOCYTE</th>\n",
       "      <th>MCH</th>\n",
       "      <th>MCHC</th>\n",
       "      <th>MCV</th>\n",
       "      <th>AGE</th>\n",
       "      <th>SEX</th>\n",
       "      <th>SOURCE</th>\n",
       "    </tr>\n",
       "  </thead>\n",
       "  <tbody>\n",
       "    <tr>\n",
       "      <th>0</th>\n",
       "      <td>35.1</td>\n",
       "      <td>11.8</td>\n",
       "      <td>4.65</td>\n",
       "      <td>6.3</td>\n",
       "      <td>310</td>\n",
       "      <td>25.4</td>\n",
       "      <td>33.6</td>\n",
       "      <td>75.5</td>\n",
       "      <td>1</td>\n",
       "      <td>F</td>\n",
       "      <td>out</td>\n",
       "    </tr>\n",
       "    <tr>\n",
       "      <th>1</th>\n",
       "      <td>43.5</td>\n",
       "      <td>14.8</td>\n",
       "      <td>5.39</td>\n",
       "      <td>12.7</td>\n",
       "      <td>334</td>\n",
       "      <td>27.5</td>\n",
       "      <td>34.0</td>\n",
       "      <td>80.7</td>\n",
       "      <td>1</td>\n",
       "      <td>F</td>\n",
       "      <td>out</td>\n",
       "    </tr>\n",
       "    <tr>\n",
       "      <th>2</th>\n",
       "      <td>33.5</td>\n",
       "      <td>11.3</td>\n",
       "      <td>4.74</td>\n",
       "      <td>13.2</td>\n",
       "      <td>305</td>\n",
       "      <td>23.8</td>\n",
       "      <td>33.7</td>\n",
       "      <td>70.7</td>\n",
       "      <td>1</td>\n",
       "      <td>F</td>\n",
       "      <td>out</td>\n",
       "    </tr>\n",
       "    <tr>\n",
       "      <th>3</th>\n",
       "      <td>39.1</td>\n",
       "      <td>13.7</td>\n",
       "      <td>4.98</td>\n",
       "      <td>10.5</td>\n",
       "      <td>366</td>\n",
       "      <td>27.5</td>\n",
       "      <td>35.0</td>\n",
       "      <td>78.5</td>\n",
       "      <td>1</td>\n",
       "      <td>F</td>\n",
       "      <td>out</td>\n",
       "    </tr>\n",
       "    <tr>\n",
       "      <th>4</th>\n",
       "      <td>30.9</td>\n",
       "      <td>9.9</td>\n",
       "      <td>4.23</td>\n",
       "      <td>22.1</td>\n",
       "      <td>333</td>\n",
       "      <td>23.4</td>\n",
       "      <td>32.0</td>\n",
       "      <td>73.0</td>\n",
       "      <td>1</td>\n",
       "      <td>M</td>\n",
       "      <td>out</td>\n",
       "    </tr>\n",
       "  </tbody>\n",
       "</table>\n",
       "</div>"
      ],
      "text/plain": [
       "   HAEMATOCRIT  HAEMOGLOBINS  ERYTHROCYTE  LEUCOCYTE  THROMBOCYTE   MCH  MCHC  \\\n",
       "0         35.1          11.8         4.65        6.3          310  25.4  33.6   \n",
       "1         43.5          14.8         5.39       12.7          334  27.5  34.0   \n",
       "2         33.5          11.3         4.74       13.2          305  23.8  33.7   \n",
       "3         39.1          13.7         4.98       10.5          366  27.5  35.0   \n",
       "4         30.9           9.9         4.23       22.1          333  23.4  32.0   \n",
       "\n",
       "    MCV  AGE SEX SOURCE  \n",
       "0  75.5    1   F    out  \n",
       "1  80.7    1   F    out  \n",
       "2  70.7    1   F    out  \n",
       "3  78.5    1   F    out  \n",
       "4  73.0    1   M    out  "
      ]
     },
     "execution_count": 3,
     "metadata": {},
     "output_type": "execute_result"
    }
   ],
   "source": [
    "data = pd.read_csv('/kaggle/input/patient-treatment-classification/data-ori.csv')\n",
    "data.head()"
   ]
  },
  {
   "cell_type": "code",
   "execution_count": 4,
   "id": "dd86436d",
   "metadata": {
    "execution": {
     "iopub.execute_input": "2022-07-18T07:26:30.640636Z",
     "iopub.status.busy": "2022-07-18T07:26:30.640019Z",
     "iopub.status.idle": "2022-07-18T07:26:30.646609Z",
     "shell.execute_reply": "2022-07-18T07:26:30.645769Z"
    },
    "papermill": {
     "duration": 0.020071,
     "end_time": "2022-07-18T07:26:30.648633",
     "exception": false,
     "start_time": "2022-07-18T07:26:30.628562",
     "status": "completed"
    },
    "tags": []
   },
   "outputs": [
    {
     "data": {
      "text/plain": [
       "(4412, 11)"
      ]
     },
     "execution_count": 4,
     "metadata": {},
     "output_type": "execute_result"
    }
   ],
   "source": [
    "data.shape"
   ]
  },
  {
   "cell_type": "code",
   "execution_count": 5,
   "id": "4ae8924d",
   "metadata": {
    "execution": {
     "iopub.execute_input": "2022-07-18T07:26:30.671572Z",
     "iopub.status.busy": "2022-07-18T07:26:30.670846Z",
     "iopub.status.idle": "2022-07-18T07:26:30.695580Z",
     "shell.execute_reply": "2022-07-18T07:26:30.693942Z"
    },
    "papermill": {
     "duration": 0.038833,
     "end_time": "2022-07-18T07:26:30.698031",
     "exception": false,
     "start_time": "2022-07-18T07:26:30.659198",
     "status": "completed"
    },
    "tags": []
   },
   "outputs": [
    {
     "name": "stdout",
     "output_type": "stream",
     "text": [
      "<class 'pandas.core.frame.DataFrame'>\n",
      "RangeIndex: 4412 entries, 0 to 4411\n",
      "Data columns (total 11 columns):\n",
      " #   Column        Non-Null Count  Dtype  \n",
      "---  ------        --------------  -----  \n",
      " 0   HAEMATOCRIT   4412 non-null   float64\n",
      " 1   HAEMOGLOBINS  4412 non-null   float64\n",
      " 2   ERYTHROCYTE   4412 non-null   float64\n",
      " 3   LEUCOCYTE     4412 non-null   float64\n",
      " 4   THROMBOCYTE   4412 non-null   int64  \n",
      " 5   MCH           4412 non-null   float64\n",
      " 6   MCHC          4412 non-null   float64\n",
      " 7   MCV           4412 non-null   float64\n",
      " 8   AGE           4412 non-null   int64  \n",
      " 9   SEX           4412 non-null   object \n",
      " 10  SOURCE        4412 non-null   object \n",
      "dtypes: float64(7), int64(2), object(2)\n",
      "memory usage: 379.3+ KB\n"
     ]
    }
   ],
   "source": [
    "data.info()"
   ]
  },
  {
   "cell_type": "code",
   "execution_count": 6,
   "id": "02fbaf51",
   "metadata": {
    "execution": {
     "iopub.execute_input": "2022-07-18T07:26:30.720122Z",
     "iopub.status.busy": "2022-07-18T07:26:30.719416Z",
     "iopub.status.idle": "2022-07-18T07:26:30.729123Z",
     "shell.execute_reply": "2022-07-18T07:26:30.727930Z"
    },
    "papermill": {
     "duration": 0.023391,
     "end_time": "2022-07-18T07:26:30.731450",
     "exception": false,
     "start_time": "2022-07-18T07:26:30.708059",
     "status": "completed"
    },
    "tags": []
   },
   "outputs": [
    {
     "data": {
      "text/plain": [
       "HAEMATOCRIT     0\n",
       "HAEMOGLOBINS    0\n",
       "ERYTHROCYTE     0\n",
       "LEUCOCYTE       0\n",
       "THROMBOCYTE     0\n",
       "MCH             0\n",
       "MCHC            0\n",
       "MCV             0\n",
       "AGE             0\n",
       "SEX             0\n",
       "SOURCE          0\n",
       "dtype: int64"
      ]
     },
     "execution_count": 6,
     "metadata": {},
     "output_type": "execute_result"
    }
   ],
   "source": [
    "data.isna().sum()"
   ]
  },
  {
   "cell_type": "code",
   "execution_count": 7,
   "id": "d3667379",
   "metadata": {
    "execution": {
     "iopub.execute_input": "2022-07-18T07:26:30.754786Z",
     "iopub.status.busy": "2022-07-18T07:26:30.754025Z",
     "iopub.status.idle": "2022-07-18T07:26:30.766887Z",
     "shell.execute_reply": "2022-07-18T07:26:30.765462Z"
    },
    "papermill": {
     "duration": 0.027333,
     "end_time": "2022-07-18T07:26:30.769488",
     "exception": false,
     "start_time": "2022-07-18T07:26:30.742155",
     "status": "completed"
    },
    "tags": []
   },
   "outputs": [
    {
     "data": {
      "text/plain": [
       "HAEMATOCRIT     326\n",
       "HAEMOGLOBINS    128\n",
       "ERYTHROCYTE     433\n",
       "LEUCOCYTE       276\n",
       "THROMBOCYTE     554\n",
       "MCH             189\n",
       "MCHC            105\n",
       "MCV             406\n",
       "AGE              95\n",
       "SEX               2\n",
       "SOURCE            2\n",
       "dtype: int64"
      ]
     },
     "execution_count": 7,
     "metadata": {},
     "output_type": "execute_result"
    }
   ],
   "source": [
    "data.nunique()"
   ]
  },
  {
   "cell_type": "code",
   "execution_count": 8,
   "id": "880eae2c",
   "metadata": {
    "execution": {
     "iopub.execute_input": "2022-07-18T07:26:30.792441Z",
     "iopub.status.busy": "2022-07-18T07:26:30.792068Z",
     "iopub.status.idle": "2022-07-18T07:26:30.834175Z",
     "shell.execute_reply": "2022-07-18T07:26:30.832970Z"
    },
    "papermill": {
     "duration": 0.056168,
     "end_time": "2022-07-18T07:26:30.836260",
     "exception": false,
     "start_time": "2022-07-18T07:26:30.780092",
     "status": "completed"
    },
    "tags": []
   },
   "outputs": [
    {
     "data": {
      "text/html": [
       "<div>\n",
       "<style scoped>\n",
       "    .dataframe tbody tr th:only-of-type {\n",
       "        vertical-align: middle;\n",
       "    }\n",
       "\n",
       "    .dataframe tbody tr th {\n",
       "        vertical-align: top;\n",
       "    }\n",
       "\n",
       "    .dataframe thead th {\n",
       "        text-align: right;\n",
       "    }\n",
       "</style>\n",
       "<table border=\"1\" class=\"dataframe\">\n",
       "  <thead>\n",
       "    <tr style=\"text-align: right;\">\n",
       "      <th></th>\n",
       "      <th>HAEMATOCRIT</th>\n",
       "      <th>HAEMOGLOBINS</th>\n",
       "      <th>ERYTHROCYTE</th>\n",
       "      <th>LEUCOCYTE</th>\n",
       "      <th>THROMBOCYTE</th>\n",
       "      <th>MCH</th>\n",
       "      <th>MCHC</th>\n",
       "      <th>MCV</th>\n",
       "      <th>AGE</th>\n",
       "    </tr>\n",
       "  </thead>\n",
       "  <tbody>\n",
       "    <tr>\n",
       "      <th>count</th>\n",
       "      <td>4412.000000</td>\n",
       "      <td>4412.000000</td>\n",
       "      <td>4412.000000</td>\n",
       "      <td>4412.000000</td>\n",
       "      <td>4412.000000</td>\n",
       "      <td>4412.000000</td>\n",
       "      <td>4412.000000</td>\n",
       "      <td>4412.000000</td>\n",
       "      <td>4412.000000</td>\n",
       "    </tr>\n",
       "    <tr>\n",
       "      <th>mean</th>\n",
       "      <td>38.197688</td>\n",
       "      <td>12.741727</td>\n",
       "      <td>4.541260</td>\n",
       "      <td>8.718608</td>\n",
       "      <td>257.524479</td>\n",
       "      <td>28.234701</td>\n",
       "      <td>33.343042</td>\n",
       "      <td>84.612942</td>\n",
       "      <td>46.626473</td>\n",
       "    </tr>\n",
       "    <tr>\n",
       "      <th>std</th>\n",
       "      <td>5.974784</td>\n",
       "      <td>2.079903</td>\n",
       "      <td>0.784091</td>\n",
       "      <td>5.049041</td>\n",
       "      <td>113.972365</td>\n",
       "      <td>2.672639</td>\n",
       "      <td>1.228664</td>\n",
       "      <td>6.859101</td>\n",
       "      <td>21.731218</td>\n",
       "    </tr>\n",
       "    <tr>\n",
       "      <th>min</th>\n",
       "      <td>13.700000</td>\n",
       "      <td>3.800000</td>\n",
       "      <td>1.480000</td>\n",
       "      <td>1.100000</td>\n",
       "      <td>8.000000</td>\n",
       "      <td>14.900000</td>\n",
       "      <td>26.000000</td>\n",
       "      <td>54.000000</td>\n",
       "      <td>1.000000</td>\n",
       "    </tr>\n",
       "    <tr>\n",
       "      <th>25%</th>\n",
       "      <td>34.375000</td>\n",
       "      <td>11.400000</td>\n",
       "      <td>4.040000</td>\n",
       "      <td>5.675000</td>\n",
       "      <td>188.000000</td>\n",
       "      <td>27.200000</td>\n",
       "      <td>32.700000</td>\n",
       "      <td>81.500000</td>\n",
       "      <td>29.000000</td>\n",
       "    </tr>\n",
       "    <tr>\n",
       "      <th>50%</th>\n",
       "      <td>38.600000</td>\n",
       "      <td>12.900000</td>\n",
       "      <td>4.570000</td>\n",
       "      <td>7.600000</td>\n",
       "      <td>256.000000</td>\n",
       "      <td>28.700000</td>\n",
       "      <td>33.400000</td>\n",
       "      <td>85.400000</td>\n",
       "      <td>47.000000</td>\n",
       "    </tr>\n",
       "    <tr>\n",
       "      <th>75%</th>\n",
       "      <td>42.500000</td>\n",
       "      <td>14.200000</td>\n",
       "      <td>5.050000</td>\n",
       "      <td>10.300000</td>\n",
       "      <td>321.000000</td>\n",
       "      <td>29.800000</td>\n",
       "      <td>34.100000</td>\n",
       "      <td>88.700000</td>\n",
       "      <td>64.000000</td>\n",
       "    </tr>\n",
       "    <tr>\n",
       "      <th>max</th>\n",
       "      <td>69.000000</td>\n",
       "      <td>18.900000</td>\n",
       "      <td>7.860000</td>\n",
       "      <td>76.600000</td>\n",
       "      <td>1183.000000</td>\n",
       "      <td>40.800000</td>\n",
       "      <td>39.000000</td>\n",
       "      <td>115.600000</td>\n",
       "      <td>99.000000</td>\n",
       "    </tr>\n",
       "  </tbody>\n",
       "</table>\n",
       "</div>"
      ],
      "text/plain": [
       "       HAEMATOCRIT  HAEMOGLOBINS  ERYTHROCYTE    LEUCOCYTE  THROMBOCYTE  \\\n",
       "count  4412.000000   4412.000000  4412.000000  4412.000000  4412.000000   \n",
       "mean     38.197688     12.741727     4.541260     8.718608   257.524479   \n",
       "std       5.974784      2.079903     0.784091     5.049041   113.972365   \n",
       "min      13.700000      3.800000     1.480000     1.100000     8.000000   \n",
       "25%      34.375000     11.400000     4.040000     5.675000   188.000000   \n",
       "50%      38.600000     12.900000     4.570000     7.600000   256.000000   \n",
       "75%      42.500000     14.200000     5.050000    10.300000   321.000000   \n",
       "max      69.000000     18.900000     7.860000    76.600000  1183.000000   \n",
       "\n",
       "               MCH         MCHC          MCV          AGE  \n",
       "count  4412.000000  4412.000000  4412.000000  4412.000000  \n",
       "mean     28.234701    33.343042    84.612942    46.626473  \n",
       "std       2.672639     1.228664     6.859101    21.731218  \n",
       "min      14.900000    26.000000    54.000000     1.000000  \n",
       "25%      27.200000    32.700000    81.500000    29.000000  \n",
       "50%      28.700000    33.400000    85.400000    47.000000  \n",
       "75%      29.800000    34.100000    88.700000    64.000000  \n",
       "max      40.800000    39.000000   115.600000    99.000000  "
      ]
     },
     "execution_count": 8,
     "metadata": {},
     "output_type": "execute_result"
    }
   ],
   "source": [
    "data.describe()"
   ]
  },
  {
   "cell_type": "markdown",
   "id": "9e52b2fa",
   "metadata": {
    "papermill": {
     "duration": 0.010364,
     "end_time": "2022-07-18T07:26:30.857401",
     "exception": false,
     "start_time": "2022-07-18T07:26:30.847037",
     "status": "completed"
    },
    "tags": []
   },
   "source": [
    "### **EDA**"
   ]
  },
  {
   "cell_type": "code",
   "execution_count": 9,
   "id": "f893767d",
   "metadata": {
    "execution": {
     "iopub.execute_input": "2022-07-18T07:26:30.880980Z",
     "iopub.status.busy": "2022-07-18T07:26:30.880565Z",
     "iopub.status.idle": "2022-07-18T07:26:30.889565Z",
     "shell.execute_reply": "2022-07-18T07:26:30.888696Z"
    },
    "papermill": {
     "duration": 0.023834,
     "end_time": "2022-07-18T07:26:30.892005",
     "exception": false,
     "start_time": "2022-07-18T07:26:30.868171",
     "status": "completed"
    },
    "tags": []
   },
   "outputs": [],
   "source": [
    "data['SOURCE'] = data.SOURCE.replace({\"in\":1, 'out':0})"
   ]
  },
  {
   "cell_type": "code",
   "execution_count": 10,
   "id": "0a0cc32b",
   "metadata": {
    "execution": {
     "iopub.execute_input": "2022-07-18T07:26:30.916004Z",
     "iopub.status.busy": "2022-07-18T07:26:30.915262Z",
     "iopub.status.idle": "2022-07-18T07:26:30.923064Z",
     "shell.execute_reply": "2022-07-18T07:26:30.922249Z"
    },
    "papermill": {
     "duration": 0.022398,
     "end_time": "2022-07-18T07:26:30.925337",
     "exception": false,
     "start_time": "2022-07-18T07:26:30.902939",
     "status": "completed"
    },
    "tags": []
   },
   "outputs": [
    {
     "data": {
      "text/plain": [
       "0    2628\n",
       "1    1784\n",
       "Name: SOURCE, dtype: int64"
      ]
     },
     "execution_count": 10,
     "metadata": {},
     "output_type": "execute_result"
    }
   ],
   "source": [
    "data.SOURCE.value_counts()"
   ]
  },
  {
   "cell_type": "code",
   "execution_count": 11,
   "id": "7889f821",
   "metadata": {
    "execution": {
     "iopub.execute_input": "2022-07-18T07:26:30.949945Z",
     "iopub.status.busy": "2022-07-18T07:26:30.949242Z",
     "iopub.status.idle": "2022-07-18T07:26:31.159624Z",
     "shell.execute_reply": "2022-07-18T07:26:31.158400Z"
    },
    "papermill": {
     "duration": 0.225281,
     "end_time": "2022-07-18T07:26:31.162176",
     "exception": false,
     "start_time": "2022-07-18T07:26:30.936895",
     "status": "completed"
    },
    "tags": []
   },
   "outputs": [
    {
     "data": {
      "text/plain": [
       "<AxesSubplot:>"
      ]
     },
     "execution_count": 11,
     "metadata": {},
     "output_type": "execute_result"
    },
    {
     "data": {
      "image/png": "[encoded data removed]",
      "text/plain": [
       "<Figure size 432x288 with 1 Axes>"
      ]
     },
     "metadata": {
      "needs_background": "light"
     },
     "output_type": "display_data"
    }
   ],
   "source": [
    "data.SOURCE.value_counts().plot(kind='bar')"
   ]
  },
  {
   "cell_type": "code",
   "execution_count": 12,
   "id": "4c01d53f",
   "metadata": {
    "execution": {
     "iopub.execute_input": "2022-07-18T07:26:31.186241Z",
     "iopub.status.busy": "2022-07-18T07:26:31.185845Z",
     "iopub.status.idle": "2022-07-18T07:26:31.195449Z",
     "shell.execute_reply": "2022-07-18T07:26:31.194304Z"
    },
    "papermill": {
     "duration": 0.024376,
     "end_time": "2022-07-18T07:26:31.197708",
     "exception": false,
     "start_time": "2022-07-18T07:26:31.173332",
     "status": "completed"
    },
    "tags": []
   },
   "outputs": [
    {
     "data": {
      "text/plain": [
       "M    2290\n",
       "F    2122\n",
       "Name: SEX, dtype: int64"
      ]
     },
     "execution_count": 12,
     "metadata": {},
     "output_type": "execute_result"
    }
   ],
   "source": [
    "data.SEX.value_counts()"
   ]
  },
  {
   "cell_type": "code",
   "execution_count": 13,
   "id": "ef6e49f3",
   "metadata": {
    "execution": {
     "iopub.execute_input": "2022-07-18T07:26:31.222953Z",
     "iopub.status.busy": "2022-07-18T07:26:31.222084Z",
     "iopub.status.idle": "2022-07-18T07:26:31.378210Z",
     "shell.execute_reply": "2022-07-18T07:26:31.376990Z"
    },
    "papermill": {
     "duration": 0.171048,
     "end_time": "2022-07-18T07:26:31.380538",
     "exception": false,
     "start_time": "2022-07-18T07:26:31.209490",
     "status": "completed"
    },
    "tags": []
   },
   "outputs": [
    {
     "data": {
      "text/plain": [
       "<AxesSubplot:>"
      ]
     },
     "execution_count": 13,
     "metadata": {},
     "output_type": "execute_result"
    },
    {
     "data": {
      "image/png": "[encoded data removed]",
      "text/plain": [
       "<Figure size 432x288 with 1 Axes>"
      ]
     },
     "metadata": {
      "needs_background": "light"
     },
     "output_type": "display_data"
    }
   ],
   "source": [
    "data.SEX.value_counts().plot(kind='bar')"
   ]
  },
  {
   "cell_type": "code",
   "execution_count": 14,
   "id": "661ceda0",
   "metadata": {
    "execution": {
     "iopub.execute_input": "2022-07-18T07:26:31.406387Z",
     "iopub.status.busy": "2022-07-18T07:26:31.405572Z",
     "iopub.status.idle": "2022-07-18T07:26:31.413173Z",
     "shell.execute_reply": "2022-07-18T07:26:31.412263Z"
    },
    "papermill": {
     "duration": 0.02304,
     "end_time": "2022-07-18T07:26:31.415239",
     "exception": false,
     "start_time": "2022-07-18T07:26:31.392199",
     "status": "completed"
    },
    "tags": []
   },
   "outputs": [],
   "source": [
    "feat = [f for f in data.columns if f !='SOURCE']\n",
    "# Split df into X and y\n",
    "y = data['SOURCE']\n",
    "x = data.drop('SOURCE', axis=1)"
   ]
  },
  {
   "cell_type": "code",
   "execution_count": 15,
   "id": "aeb6f6ec",
   "metadata": {
    "execution": {
     "iopub.execute_input": "2022-07-18T07:26:31.440746Z",
     "iopub.status.busy": "2022-07-18T07:26:31.440051Z",
     "iopub.status.idle": "2022-07-18T07:26:31.448164Z",
     "shell.execute_reply": "2022-07-18T07:26:31.446775Z"
    },
    "papermill": {
     "duration": 0.023514,
     "end_time": "2022-07-18T07:26:31.450491",
     "exception": false,
     "start_time": "2022-07-18T07:26:31.426977",
     "status": "completed"
    },
    "tags": []
   },
   "outputs": [
    {
     "name": "stdout",
     "output_type": "stream",
     "text": [
      "The dataset contains 4412 rows and 11 columns\n",
      "Total number of features : 10\n",
      "Number of numerical features : 9\n",
      "Number of categorical features : 1\n",
      "\n"
     ]
    }
   ],
   "source": [
    "print(f\"The dataset contains {data.shape[0]} rows and {data.shape[1]} columns\")\n",
    "\n",
    "num_feat = [f for f in feat if data[f].dtype != object]\n",
    "cat_feat = [f for f in feat if data[f].dtype == object]\n",
    "\n",
    "print(f\"Total number of features : {len(feat)}\")\n",
    "print(f\"Number of numerical features : {len(num_feat)}\")\n",
    "print(f\"Number of categorical features : {len(cat_feat)}\\n\")"
   ]
  },
  {
   "cell_type": "code",
   "execution_count": 16,
   "id": "5ce354ae",
   "metadata": {
    "execution": {
     "iopub.execute_input": "2022-07-18T07:26:31.476277Z",
     "iopub.status.busy": "2022-07-18T07:26:31.475153Z",
     "iopub.status.idle": "2022-07-18T07:26:33.484219Z",
     "shell.execute_reply": "2022-07-18T07:26:33.482822Z"
    },
    "papermill": {
     "duration": 2.025138,
     "end_time": "2022-07-18T07:26:33.487476",
     "exception": false,
     "start_time": "2022-07-18T07:26:31.462338",
     "status": "completed"
    },
    "tags": []
   },
   "outputs": [
    {
     "data": {
      "image/png": "[encoded data removed]",
      "text/plain": [
       "<Figure size 576x1800 with 9 Axes>"
      ]
     },
     "metadata": {
      "needs_background": "light"
     },
     "output_type": "display_data"
    }
   ],
   "source": [
    "fig, axes = plt.subplots(9, 1, figsize=(8, 25))\n",
    "for i, c in enumerate(num_feat):\n",
    "    f = data[[c]].plot(kind='kde',ax=axes[i])"
   ]
  },
  {
   "cell_type": "code",
   "execution_count": 17,
   "id": "62ef1521",
   "metadata": {
    "execution": {
     "iopub.execute_input": "2022-07-18T07:26:33.517019Z",
     "iopub.status.busy": "2022-07-18T07:26:33.516402Z",
     "iopub.status.idle": "2022-07-18T07:26:34.786259Z",
     "shell.execute_reply": "2022-07-18T07:26:34.784982Z"
    },
    "papermill": {
     "duration": 1.286732,
     "end_time": "2022-07-18T07:26:34.788517",
     "exception": false,
     "start_time": "2022-07-18T07:26:33.501785",
     "status": "completed"
    },
    "tags": []
   },
   "outputs": [
    {
     "data": {
      "image/png": "[encoded data removed]",
      "text/plain": [
       "<Figure size 1008x1728 with 10 Axes>"
      ]
     },
     "metadata": {
      "needs_background": "light"
     },
     "output_type": "display_data"
    }
   ],
   "source": [
    "# Relationship between target and mean of each numerical features\n",
    "\n",
    "fig, axes = plt.subplots(5,2, figsize=(14,24))\n",
    "axes = [x for axes_row in axes for x in axes_row]\n",
    "for i,c in enumerate(data[num_feat]):\n",
    "    df = data.groupby(\"SOURCE\")[c].mean()\n",
    "    plot = df.plot(kind='bar', title=c, ax=axes[i], ylabel=f'Mean {c}')"
   ]
  },
  {
   "cell_type": "code",
   "execution_count": 18,
   "id": "8af13c10",
   "metadata": {
    "execution": {
     "iopub.execute_input": "2022-07-18T07:26:34.818651Z",
     "iopub.status.busy": "2022-07-18T07:26:34.817706Z",
     "iopub.status.idle": "2022-07-18T07:26:35.171757Z",
     "shell.execute_reply": "2022-07-18T07:26:35.170882Z"
    },
    "papermill": {
     "duration": 0.371571,
     "end_time": "2022-07-18T07:26:35.174070",
     "exception": false,
     "start_time": "2022-07-18T07:26:34.802499",
     "status": "completed"
    },
    "tags": []
   },
   "outputs": [
    {
     "data": {
      "image/png": "[encoded data removed]",
      "text/plain": [
       "<Figure size 576x576 with 1 Axes>"
      ]
     },
     "metadata": {
      "needs_background": "light"
     },
     "output_type": "display_data"
    }
   ],
   "source": [
    "corr_matt = data[num_feat].corr(method='pearson')\n",
    "matrix = np.triu(corr_matt)\n",
    "plt.figure(figsize=(8,8))\n",
    "corr = sns.heatmap(corr_matt, annot=True, mask = matrix,cmap='BrBG', cbar=False)"
   ]
  },
  {
   "cell_type": "code",
   "execution_count": 19,
   "id": "b6dc2106",
   "metadata": {
    "execution": {
     "iopub.execute_input": "2022-07-18T07:26:35.205986Z",
     "iopub.status.busy": "2022-07-18T07:26:35.204840Z",
     "iopub.status.idle": "2022-07-18T07:26:35.400158Z",
     "shell.execute_reply": "2022-07-18T07:26:35.398916Z"
    },
    "papermill": {
     "duration": 0.213631,
     "end_time": "2022-07-18T07:26:35.402614",
     "exception": false,
     "start_time": "2022-07-18T07:26:35.188983",
     "status": "completed"
    },
    "tags": []
   },
   "outputs": [
    {
     "data": {
      "image/png": "[encoded data removed]",
      "text/plain": [
       "<Figure size 216x360 with 1 Axes>"
      ]
     },
     "metadata": {
      "needs_background": "light"
     },
     "output_type": "display_data"
    }
   ],
   "source": [
    "# Pearson's Correlation of features w.r.t target\n",
    "\n",
    "corr_matt = data.corr()[['SOURCE']].sort_values(by='SOURCE',ascending=False)\n",
    "plt.figure(figsize=(3,5))\n",
    "corr = sns.heatmap(corr_matt, annot=True, cmap='BrBG', cbar=False)"
   ]
  },
  {
   "cell_type": "code",
   "execution_count": 20,
   "id": "ab9fba81",
   "metadata": {
    "execution": {
     "iopub.execute_input": "2022-07-18T07:26:35.434313Z",
     "iopub.status.busy": "2022-07-18T07:26:35.433584Z",
     "iopub.status.idle": "2022-07-18T07:26:35.443179Z",
     "shell.execute_reply": "2022-07-18T07:26:35.442242Z"
    },
    "papermill": {
     "duration": 0.027685,
     "end_time": "2022-07-18T07:26:35.445337",
     "exception": false,
     "start_time": "2022-07-18T07:26:35.417652",
     "status": "completed"
    },
    "tags": []
   },
   "outputs": [],
   "source": [
    "x['SEX'] = x['SEX'].replace({'F': 0, 'M': 1})"
   ]
  },
  {
   "cell_type": "code",
   "execution_count": 21,
   "id": "17ee4b49",
   "metadata": {
    "execution": {
     "iopub.execute_input": "2022-07-18T07:26:35.477495Z",
     "iopub.status.busy": "2022-07-18T07:26:35.477062Z",
     "iopub.status.idle": "2022-07-18T07:26:35.485057Z",
     "shell.execute_reply": "2022-07-18T07:26:35.484218Z"
    },
    "papermill": {
     "duration": 0.026831,
     "end_time": "2022-07-18T07:26:35.487191",
     "exception": false,
     "start_time": "2022-07-18T07:26:35.460360",
     "status": "completed"
    },
    "tags": []
   },
   "outputs": [],
   "source": [
    "x_train, x_test, y_train, y_test = train_test_split(x, y, train_size=0.7, shuffle=True, random_state=1)"
   ]
  },
  {
   "cell_type": "code",
   "execution_count": 22,
   "id": "490bcc67",
   "metadata": {
    "execution": {
     "iopub.execute_input": "2022-07-18T07:26:35.519335Z",
     "iopub.status.busy": "2022-07-18T07:26:35.518537Z",
     "iopub.status.idle": "2022-07-18T07:26:35.535030Z",
     "shell.execute_reply": "2022-07-18T07:26:35.534082Z"
    },
    "papermill": {
     "duration": 0.035045,
     "end_time": "2022-07-18T07:26:35.537436",
     "exception": false,
     "start_time": "2022-07-18T07:26:35.502391",
     "status": "completed"
    },
    "tags": []
   },
   "outputs": [],
   "source": [
    "scaler = StandardScaler()\n",
    "scaler.fit(x_train)\n",
    "x_train[num_feat] = scaler.fit_transform(x_train[num_feat]) #fit and transform the train set\n",
    "x_test[num_feat] = scaler.transform(x_test[num_feat]) #transform the test test"
   ]
  },
  {
   "cell_type": "code",
   "execution_count": 23,
   "id": "936f3cd7",
   "metadata": {
    "execution": {
     "iopub.execute_input": "2022-07-18T07:26:35.569804Z",
     "iopub.status.busy": "2022-07-18T07:26:35.569078Z",
     "iopub.status.idle": "2022-07-18T07:26:35.584398Z",
     "shell.execute_reply": "2022-07-18T07:26:35.583492Z"
    },
    "papermill": {
     "duration": 0.03408,
     "end_time": "2022-07-18T07:26:35.586849",
     "exception": false,
     "start_time": "2022-07-18T07:26:35.552769",
     "status": "completed"
    },
    "tags": []
   },
   "outputs": [
    {
     "data": {
      "text/html": [
       "<div>\n",
       "<style scoped>\n",
       "    .dataframe tbody tr th:only-of-type {\n",
       "        vertical-align: middle;\n",
       "    }\n",
       "\n",
       "    .dataframe tbody tr th {\n",
       "        vertical-align: top;\n",
       "    }\n",
       "\n",
       "    .dataframe thead th {\n",
       "        text-align: right;\n",
       "    }\n",
       "</style>\n",
       "<table border=\"1\" class=\"dataframe\">\n",
       "  <thead>\n",
       "    <tr style=\"text-align: right;\">\n",
       "      <th></th>\n",
       "      <th>HAEMATOCRIT</th>\n",
       "      <th>HAEMOGLOBINS</th>\n",
       "      <th>ERYTHROCYTE</th>\n",
       "      <th>LEUCOCYTE</th>\n",
       "      <th>THROMBOCYTE</th>\n",
       "      <th>MCH</th>\n",
       "      <th>MCHC</th>\n",
       "      <th>MCV</th>\n",
       "      <th>AGE</th>\n",
       "      <th>SEX</th>\n",
       "    </tr>\n",
       "  </thead>\n",
       "  <tbody>\n",
       "    <tr>\n",
       "      <th>2275</th>\n",
       "      <td>1.521571</td>\n",
       "      <td>0.918324</td>\n",
       "      <td>4.205082</td>\n",
       "      <td>-0.507635</td>\n",
       "      <td>-0.368181</td>\n",
       "      <td>-3.543672</td>\n",
       "      <td>-1.886871</td>\n",
       "      <td>-3.523787</td>\n",
       "      <td>0.113088</td>\n",
       "      <td>0</td>\n",
       "    </tr>\n",
       "    <tr>\n",
       "      <th>4093</th>\n",
       "      <td>-0.590225</td>\n",
       "      <td>-0.613524</td>\n",
       "      <td>-0.673427</td>\n",
       "      <td>-0.468456</td>\n",
       "      <td>-0.184678</td>\n",
       "      <td>0.106741</td>\n",
       "      <td>-0.267275</td>\n",
       "      <td>0.263954</td>\n",
       "      <td>1.411455</td>\n",
       "      <td>0</td>\n",
       "    </tr>\n",
       "    <tr>\n",
       "      <th>1727</th>\n",
       "      <td>-1.512041</td>\n",
       "      <td>-1.618799</td>\n",
       "      <td>-1.463160</td>\n",
       "      <td>0.099634</td>\n",
       "      <td>1.195966</td>\n",
       "      <td>-0.228501</td>\n",
       "      <td>-0.996093</td>\n",
       "      <td>0.191392</td>\n",
       "      <td>-0.350615</td>\n",
       "      <td>0</td>\n",
       "    </tr>\n",
       "    <tr>\n",
       "      <th>615</th>\n",
       "      <td>0.817639</td>\n",
       "      <td>0.870454</td>\n",
       "      <td>0.765924</td>\n",
       "      <td>-0.488046</td>\n",
       "      <td>-0.140986</td>\n",
       "      <td>0.032243</td>\n",
       "      <td>0.380563</td>\n",
       "      <td>-0.127881</td>\n",
       "      <td>-1.138910</td>\n",
       "      <td>1</td>\n",
       "    </tr>\n",
       "    <tr>\n",
       "      <th>1610</th>\n",
       "      <td>0.348351</td>\n",
       "      <td>0.391752</td>\n",
       "      <td>-0.036546</td>\n",
       "      <td>-0.311742</td>\n",
       "      <td>0.260973</td>\n",
       "      <td>0.665478</td>\n",
       "      <td>0.299583</td>\n",
       "      <td>0.670302</td>\n",
       "      <td>-0.443356</td>\n",
       "      <td>0</td>\n",
       "    </tr>\n",
       "  </tbody>\n",
       "</table>\n",
       "</div>"
      ],
      "text/plain": [
       "      HAEMATOCRIT  HAEMOGLOBINS  ERYTHROCYTE  LEUCOCYTE  THROMBOCYTE  \\\n",
       "2275     1.521571      0.918324     4.205082  -0.507635    -0.368181   \n",
       "4093    -0.590225     -0.613524    -0.673427  -0.468456    -0.184678   \n",
       "1727    -1.512041     -1.618799    -1.463160   0.099634     1.195966   \n",
       "615      0.817639      0.870454     0.765924  -0.488046    -0.140986   \n",
       "1610     0.348351      0.391752    -0.036546  -0.311742     0.260973   \n",
       "\n",
       "           MCH      MCHC       MCV       AGE  SEX  \n",
       "2275 -3.543672 -1.886871 -3.523787  0.113088    0  \n",
       "4093  0.106741 -0.267275  0.263954  1.411455    0  \n",
       "1727 -0.228501 -0.996093  0.191392 -0.350615    0  \n",
       "615   0.032243  0.380563 -0.127881 -1.138910    1  \n",
       "1610  0.665478  0.299583  0.670302 -0.443356    0  "
      ]
     },
     "execution_count": 23,
     "metadata": {},
     "output_type": "execute_result"
    }
   ],
   "source": [
    "x_train.head()"
   ]
  },
  {
   "cell_type": "markdown",
   "id": "1237e5d4",
   "metadata": {
    "papermill": {
     "duration": 0.015031,
     "end_time": "2022-07-18T07:26:35.617660",
     "exception": false,
     "start_time": "2022-07-18T07:26:35.602629",
     "status": "completed"
    },
    "tags": []
   },
   "source": [
    "### **Feature Selection**"
   ]
  },
  {
   "cell_type": "code",
   "execution_count": 24,
   "id": "27ca2e65",
   "metadata": {
    "execution": {
     "iopub.execute_input": "2022-07-18T07:26:35.651051Z",
     "iopub.status.busy": "2022-07-18T07:26:35.650395Z",
     "iopub.status.idle": "2022-07-18T07:26:35.667448Z",
     "shell.execute_reply": "2022-07-18T07:26:35.666610Z"
    },
    "papermill": {
     "duration": 0.036115,
     "end_time": "2022-07-18T07:26:35.669763",
     "exception": false,
     "start_time": "2022-07-18T07:26:35.633648",
     "status": "completed"
    },
    "tags": []
   },
   "outputs": [
    {
     "data": {
      "text/html": [
       "<div>\n",
       "<style scoped>\n",
       "    .dataframe tbody tr th:only-of-type {\n",
       "        vertical-align: middle;\n",
       "    }\n",
       "\n",
       "    .dataframe tbody tr th {\n",
       "        vertical-align: top;\n",
       "    }\n",
       "\n",
       "    .dataframe thead th {\n",
       "        text-align: right;\n",
       "    }\n",
       "</style>\n",
       "<table border=\"1\" class=\"dataframe\">\n",
       "  <thead>\n",
       "    <tr style=\"text-align: right;\">\n",
       "      <th></th>\n",
       "      <th>HAEMATOCRIT</th>\n",
       "      <th>HAEMOGLOBINS</th>\n",
       "      <th>ERYTHROCYTE</th>\n",
       "      <th>LEUCOCYTE</th>\n",
       "      <th>THROMBOCYTE</th>\n",
       "      <th>AGE</th>\n",
       "      <th>SEX</th>\n",
       "    </tr>\n",
       "  </thead>\n",
       "  <tbody>\n",
       "    <tr>\n",
       "      <th>2275</th>\n",
       "      <td>1.521571</td>\n",
       "      <td>0.918324</td>\n",
       "      <td>4.205082</td>\n",
       "      <td>-0.507635</td>\n",
       "      <td>-0.368181</td>\n",
       "      <td>0.113088</td>\n",
       "      <td>0</td>\n",
       "    </tr>\n",
       "    <tr>\n",
       "      <th>4093</th>\n",
       "      <td>-0.590225</td>\n",
       "      <td>-0.613524</td>\n",
       "      <td>-0.673427</td>\n",
       "      <td>-0.468456</td>\n",
       "      <td>-0.184678</td>\n",
       "      <td>1.411455</td>\n",
       "      <td>0</td>\n",
       "    </tr>\n",
       "    <tr>\n",
       "      <th>1727</th>\n",
       "      <td>-1.512041</td>\n",
       "      <td>-1.618799</td>\n",
       "      <td>-1.463160</td>\n",
       "      <td>0.099634</td>\n",
       "      <td>1.195966</td>\n",
       "      <td>-0.350615</td>\n",
       "      <td>0</td>\n",
       "    </tr>\n",
       "    <tr>\n",
       "      <th>615</th>\n",
       "      <td>0.817639</td>\n",
       "      <td>0.870454</td>\n",
       "      <td>0.765924</td>\n",
       "      <td>-0.488046</td>\n",
       "      <td>-0.140986</td>\n",
       "      <td>-1.138910</td>\n",
       "      <td>1</td>\n",
       "    </tr>\n",
       "    <tr>\n",
       "      <th>1610</th>\n",
       "      <td>0.348351</td>\n",
       "      <td>0.391752</td>\n",
       "      <td>-0.036546</td>\n",
       "      <td>-0.311742</td>\n",
       "      <td>0.260973</td>\n",
       "      <td>-0.443356</td>\n",
       "      <td>0</td>\n",
       "    </tr>\n",
       "  </tbody>\n",
       "</table>\n",
       "</div>"
      ],
      "text/plain": [
       "      HAEMATOCRIT  HAEMOGLOBINS  ERYTHROCYTE  LEUCOCYTE  THROMBOCYTE  \\\n",
       "2275     1.521571      0.918324     4.205082  -0.507635    -0.368181   \n",
       "4093    -0.590225     -0.613524    -0.673427  -0.468456    -0.184678   \n",
       "1727    -1.512041     -1.618799    -1.463160   0.099634     1.195966   \n",
       "615      0.817639      0.870454     0.765924  -0.488046    -0.140986   \n",
       "1610     0.348351      0.391752    -0.036546  -0.311742     0.260973   \n",
       "\n",
       "           AGE  SEX  \n",
       "2275  0.113088    0  \n",
       "4093  1.411455    0  \n",
       "1727 -0.350615    0  \n",
       "615  -1.138910    1  \n",
       "1610 -0.443356    0  "
      ]
     },
     "execution_count": 24,
     "metadata": {},
     "output_type": "execute_result"
    }
   ],
   "source": [
    "# Remove least correlated features\n",
    "\n",
    "x_train.drop(['MCH', 'MCHC','MCV'], axis=1, inplace=True)\n",
    "x_test.drop(['MCH', 'MCHC','MCV'], axis=1, inplace=True)\n",
    "\n",
    "# final train set\n",
    "x_train.head()"
   ]
  },
  {
   "cell_type": "markdown",
   "id": "eb735023",
   "metadata": {
    "papermill": {
     "duration": 0.016056,
     "end_time": "2022-07-18T07:26:35.701333",
     "exception": false,
     "start_time": "2022-07-18T07:26:35.685277",
     "status": "completed"
    },
    "tags": []
   },
   "source": [
    "### **Machine Learning**"
   ]
  },
  {
   "cell_type": "code",
   "execution_count": 25,
   "id": "a892a02c",
   "metadata": {
    "execution": {
     "iopub.execute_input": "2022-07-18T07:26:35.735967Z",
     "iopub.status.busy": "2022-07-18T07:26:35.735542Z",
     "iopub.status.idle": "2022-07-18T07:26:42.104401Z",
     "shell.execute_reply": "2022-07-18T07:26:42.102756Z"
    },
    "papermill": {
     "duration": 6.388721,
     "end_time": "2022-07-18T07:26:42.107343",
     "exception": false,
     "start_time": "2022-07-18T07:26:35.718622",
     "status": "completed"
    },
    "tags": []
   },
   "outputs": [
    {
     "name": "stdout",
     "output_type": "stream",
     "text": [
      "Logistic Regression trained.\n",
      "      Decision Tree trained.\n",
      "      Random Forest trained.\n",
      "     Neural Network trained.\n",
      "  Gradient Boosting trained.\n"
     ]
    }
   ],
   "source": [
    "models = {\n",
    "    \"Logistic Regression\": LogisticRegression(),\n",
    "    \"      Decision Tree\": DecisionTreeClassifier(),\n",
    "    \"      Random Forest\": RandomForestClassifier(),\n",
    "    \"     Neural Network\": MLPClassifier(),\n",
    "    \"  Gradient Boosting\": GradientBoostingClassifier()\n",
    "}\n",
    "\n",
    "for name, model in models.items():\n",
    "    model.fit(x_train, y_train)\n",
    "    print(name + \" trained.\")"
   ]
  },
  {
   "cell_type": "code",
   "execution_count": 26,
   "id": "c613d8a0",
   "metadata": {
    "execution": {
     "iopub.execute_input": "2022-07-18T07:26:42.141597Z",
     "iopub.status.busy": "2022-07-18T07:26:42.140474Z",
     "iopub.status.idle": "2022-07-18T07:26:42.233089Z",
     "shell.execute_reply": "2022-07-18T07:26:42.231759Z"
    },
    "papermill": {
     "duration": 0.113157,
     "end_time": "2022-07-18T07:26:42.236782",
     "exception": false,
     "start_time": "2022-07-18T07:26:42.123625",
     "status": "completed"
    },
    "tags": []
   },
   "outputs": [
    {
     "name": "stdout",
     "output_type": "stream",
     "text": [
      "Logistic Regression Accuracy: 71.45%\n",
      "      Decision Tree Accuracy: 64.73%\n",
      "      Random Forest Accuracy: 73.94%\n",
      "     Neural Network Accuracy: 74.09%\n",
      "  Gradient Boosting Accuracy: 73.19%\n"
     ]
    }
   ],
   "source": [
    "acy =[]\n",
    "for name, model in models.items():\n",
    "    y_pred = model.predict(x_test)\n",
    "    acc = accuracy_score(y_test, y_pred)\n",
    "    acy.append(acc)\n",
    "    print(name + \" Accuracy: {:.2f}%\".format(acc * 100))"
   ]
  },
  {
   "cell_type": "code",
   "execution_count": 27,
   "id": "8cf3e691",
   "metadata": {
    "execution": {
     "iopub.execute_input": "2022-07-18T07:26:42.297966Z",
     "iopub.status.busy": "2022-07-18T07:26:42.297349Z",
     "iopub.status.idle": "2022-07-18T07:26:42.507176Z",
     "shell.execute_reply": "2022-07-18T07:26:42.506291Z"
    },
    "papermill": {
     "duration": 0.243318,
     "end_time": "2022-07-18T07:26:42.509384",
     "exception": false,
     "start_time": "2022-07-18T07:26:42.266066",
     "status": "completed"
    },
    "tags": []
   },
   "outputs": [
    {
     "data": {
      "text/plain": [
       "<AxesSubplot:>"
      ]
     },
     "execution_count": 27,
     "metadata": {},
     "output_type": "execute_result"
    },
    {
     "data": {
      "image/png": "[encoded data removed]",
      "text/plain": [
       "<Figure size 432x288 with 1 Axes>"
      ]
     },
     "metadata": {
      "needs_background": "light"
     },
     "output_type": "display_data"
    }
   ],
   "source": [
    "key=['Logistic Regression','Decision Tree','Random Forest','Neural Network','Gradient Boosting Accuracy']\n",
    "sns.barplot(x = acy, y = key, palette='pastel')"
   ]
  },
  {
   "cell_type": "code",
   "execution_count": null,
   "id": "5ab37b4a",
   "metadata": {
    "papermill": {
     "duration": 0.016085,
     "end_time": "2022-07-18T07:26:42.541926",
     "exception": false,
     "start_time": "2022-07-18T07:26:42.525841",
     "status": "completed"
    },
    "tags": []
   },
   "outputs": [],
   "source": []
  }
 ],
 "metadata": {
  "kernelspec": {
   "display_name": "Python 3",
   "language": "python",
   "name": "python3"
  },
  "language_info": {
   "codemirror_mode": {
    "name": "ipython",
    "version": 3
   },
   "file_extension": ".py",
   "mimetype": "text/x-python",
   "name": "python",
   "nbconvert_exporter": "python",
   "pygments_lexer": "ipython3",
   "version": "3.7.12"
  },
  "papermill": {
   "default_parameters": {},
   "duration": 24.621296,
   "end_time": "2022-07-18T07:26:43.380034",
   "environment_variables": {},
   "exception": null,
   "input_path": "__notebook__.ipynb",
   "output_path": "__notebook__.ipynb",
   "parameters": {},
   "start_time": "2022-07-18T07:26:18.758738",
   "version": "2.3.4"
  }
 },
 "nbformat": 4,
 "nbformat_minor": 5
}
